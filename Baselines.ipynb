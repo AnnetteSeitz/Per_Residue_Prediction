{
 "cells": [
  {
   "cell_type": "code",
   "execution_count": 1,
   "id": "8bbf8f91",
   "metadata": {},
   "outputs": [],
   "source": [
    "import numpy as num"
   ]
  },
  {
   "cell_type": "markdown",
   "id": "565416e4",
   "metadata": {},
   "source": [
    "# Import of data\n",
    "\n",
    "Import data from text files."
   ]
  },
  {
   "cell_type": "code",
   "execution_count": 2,
   "id": "eebb9cd9",
   "metadata": {},
   "outputs": [],
   "source": [
    "# open files\n",
    "file_training_sequence = open(\"/home/annette/Data/Studium/Module/PBL/Dataset/training_sequences.fasta\")\n",
    "file_training_structure = open(\"/home/annette/Data/Studium/Module/PBL/Dataset/training_structure.fasta\")\n",
    "file_training_disorder = open(\"/home/annette/Data/Studium/Module/PBL/Dataset/training_disorder.fasta\")\n",
    "\n",
    "# delete \\n from file\n",
    "list_training_sequence = file_training_sequence.readlines()\n",
    "for number in range(len(list_training_sequence)):\n",
    "    element = list_training_sequence[number]\n",
    "    list_training_sequence[number] = element[0:len(element) - 1]\n",
    "\n",
    "list_training_structure = file_training_structure.readlines()\n",
    "for number in range(len(list_training_structure)):\n",
    "    element = list_training_structure[number]\n",
    "    list_training_structure[number] = element[0:len(element) - 1]\n",
    "    \n",
    "list_training_disorder = file_training_disorder.readlines()\n",
    "for number in range(len(list_training_disorder)):\n",
    "    element = list_training_disorder[number]\n",
    "    list_training_disorder[number] = element[0:len(element) - 1]\n",
    "\n",
    "# close files\n",
    "file_training_sequence.close()\n",
    "file_training_structure.close()\n",
    "file_training_disorder.close()"
   ]
  },
  {
   "cell_type": "markdown",
   "id": "2a5605e6",
   "metadata": {},
   "source": [
    "# Preparation of data\n",
    "\n",
    "Change from given 8 states to needed 3 states\n",
    "\n",
    "labels:\n",
    "* sheet: 0\n",
    "* coil: 1\n",
    "* helix: 2"
   ]
  },
  {
   "cell_type": "code",
   "execution_count": 3,
   "id": "73ff1ad1",
   "metadata": {},
   "outputs": [
    {
     "name": "stdout",
     "output_type": "stream",
     "text": [
      "Ready.\n",
      "Ready.\n"
     ]
    }
   ],
   "source": [
    "# Change to 3 states\n",
    "for index_list, prot_sequ in enumerate(list_training_structure):\n",
    "     \n",
    "    if prot_sequ[0:1] == \">\" or len(prot_sequ) == 0:\n",
    "        continue\n",
    "     \n",
    "    training_structure = []\n",
    "    for index in range(len(prot_sequ)):\n",
    "        if prot_sequ[index] == ' ':\n",
    "            if list_training_disorder[index_list][index] == '-':\n",
    "                training_structure.append(\"C\")\n",
    "            else:\n",
    "                training_structure.append(\" \")\n",
    "        elif prot_sequ[index] == 'H':\n",
    "            training_structure.append(\"H\")\n",
    "        elif prot_sequ[index] == 'E':\n",
    "            training_structure.append(\"E\")\n",
    "        elif prot_sequ[index] == 'T':\n",
    "            training_structure.append(\"C\")\n",
    "        elif prot_sequ[index] == 'S':\n",
    "            training_structure.append(\"C\")\n",
    "        elif prot_sequ[index] == 'G':\n",
    "            training_structure.append(\"H\")\n",
    "        elif prot_sequ[index] == 'B':\n",
    "            training_structure.append(\"E\")\n",
    "        elif prot_sequ[index] == 'I':\n",
    "            training_structure.append(\"H\")\n",
    "        elif prot_sequ[index] == 'C':\n",
    "            training_structure.append(\"C\")\n",
    "\n",
    "    \n",
    "    structure3_training = ''.join(training_structure)\n",
    "    list_training_structure[index_list] = structure3_training\n",
    "\n",
    "print(\"Ready.\")\n",
    "# print(list_training_structure)\n",
    "\n",
    "\n",
    "list_training_labels = []\n",
    "\n",
    "# Change to numbers = labels\n",
    "for index_list, prot_sequ in enumerate(list_training_structure):\n",
    "\n",
    "    if prot_sequ[0:1] == \">\" or len(prot_sequ) == 0:\n",
    "        list_training_labels.append(prot_sequ)\n",
    "        continue\n",
    "\n",
    "    training_structure = []\n",
    "    for index in range(len(prot_sequ)):\n",
    "        if prot_sequ[index] == 'H':\n",
    "            training_structure.append(\"2\")\n",
    "        elif prot_sequ[index] == 'E':\n",
    "            training_structure.append(\"0\")\n",
    "        elif prot_sequ[index] == ' ':\n",
    "            training_structure.append(\" \")\n",
    "        elif prot_sequ[index] == 'C':\n",
    "            training_structure.append(\"1\")\n",
    "    \n",
    "    labels_training = ''.join(training_structure)\n",
    "    list_training_labels.append(labels_training)\n",
    "\n",
    "print(\"Ready.\")"
   ]
  },
  {
   "cell_type": "code",
   "execution_count": 4,
   "id": "5d4fde0c",
   "metadata": {},
   "outputs": [
    {
     "name": "stdout",
     "output_type": "stream",
     "text": [
      "Ready.\n"
     ]
    }
   ],
   "source": [
    "whole_data_training = {}\n",
    "for index in range(0, len(list_training_sequence), 3):\n",
    "    key = list_training_sequence[index]\n",
    "    key = key[1:len(key)]\n",
    "    value1 = list_training_sequence[index + 1]\n",
    "    value2 = list_training_labels[index + 1]\n",
    "    value = [value1, value2]\n",
    "    whole_data_training[key] = value\n",
    "\n",
    "print(\"Ready.\")"
   ]
  },
  {
   "cell_type": "markdown",
   "id": "efd7801f",
   "metadata": {},
   "source": [
    "# Generating the target array"
   ]
  },
  {
   "cell_type": "code",
   "execution_count": 5,
   "id": "3ad0bb35",
   "metadata": {},
   "outputs": [
    {
     "name": "stdout",
     "output_type": "stream",
     "text": [
      "Ready.\n"
     ]
    }
   ],
   "source": [
    "target_training_list = []\n",
    "\n",
    "for name in whole_data_training:\n",
    "    data = whole_data_training.get(name)\n",
    "    sequence = data[0]\n",
    "    structure = data[1]\n",
    "    \n",
    "    for aa in range(len(sequence)):\n",
    "        if sequence[aa] == 'B' or sequence[aa] == 'J' or sequence[aa] == 'O' or sequence[aa] == 'U' or sequence[aa] == 'X' or sequence[aa] == 'Z':\n",
    "            continue\n",
    "\n",
    "        if structure[aa] == ' ':\n",
    "            continue\n",
    "        \n",
    "        # Generation the target array\n",
    "        target_training_list.append(structure[aa])\n",
    "    \n",
    "target_training = num.array(target_training_list)\n",
    "print(\"Ready.\")"
   ]
  },
  {
   "cell_type": "markdown",
   "id": "665267e7",
   "metadata": {},
   "source": [
    "# Calculating the baseline"
   ]
  },
  {
   "cell_type": "code",
   "execution_count": 6,
   "id": "08775968",
   "metadata": {},
   "outputs": [
    {
     "name": "stdout",
     "output_type": "stream",
     "text": [
      "1331643\n",
      "509838\n",
      "821805\n",
      "1331643\n",
      "\n",
      "ZeroRate baseline: \n",
      "0.3828638756783913\n"
     ]
    }
   ],
   "source": [
    "# ZeroRate baseline with class coil = 1\n",
    "count_true = 0\n",
    "count_false = 0\n",
    "count_all = 0\n",
    "count = 0\n",
    "for aa in target_training:\n",
    "    count_all = count_all + 1\n",
    "    if aa == ' ':\n",
    "        count = count + 1\n",
    "    elif aa == '1':\n",
    "        count_true = count_true + 1\n",
    "    else:\n",
    "        count_false = count_false + 1\n",
    "\n",
    "zero_rate = count_true / (count_all - count)\n",
    "        \n",
    "print(count_all)\n",
    "print(count_true)\n",
    "print(count_false)\n",
    "print(count_true + count_false + count)\n",
    "print(\"\\nZeroRate baseline: \")\n",
    "print(zero_rate)"
   ]
  },
  {
   "cell_type": "code",
   "execution_count": 7,
   "id": "6cea7057",
   "metadata": {},
   "outputs": [
    {
     "name": "stdout",
     "output_type": "stream",
     "text": [
      "Random Rate Classifier: \n",
      "0.35421575477375034\n"
     ]
    }
   ],
   "source": [
    "# Random Rate Classifier\n",
    "count_h = 0\n",
    "count_e = 0\n",
    "count_c = 0\n",
    "count = 0\n",
    "\n",
    "for aa in target_training:\n",
    "    if aa == '2':\n",
    "        count_h = count_h + 1\n",
    "    elif aa == '0':\n",
    "        count_e = count_e + 1\n",
    "    elif aa == '1':\n",
    "        count_c = count_c + 1\n",
    "    else:\n",
    "        count = count + 1\n",
    "\n",
    "h_guess = (count_h / (count_h + count_e + count_c))\n",
    "e_guess = (count_e / (count_h + count_e + count_c))\n",
    "c_guess = (count_c / (count_h + count_e + count_c))\n",
    "\n",
    "random_rate = h_guess**2 + e_guess**2 + c_guess**2\n",
    "\n",
    "print(\"Random Rate Classifier: \")\n",
    "print(random_rate)"
   ]
  }
 ],
 "metadata": {
  "kernelspec": {
   "display_name": "Python 3",
   "language": "python",
   "name": "python3"
  },
  "language_info": {
   "codemirror_mode": {
    "name": "ipython",
    "version": 3
   },
   "file_extension": ".py",
   "mimetype": "text/x-python",
   "name": "python",
   "nbconvert_exporter": "python",
   "pygments_lexer": "ipython3",
   "version": "3.8.8"
  }
 },
 "nbformat": 4,
 "nbformat_minor": 5
}
